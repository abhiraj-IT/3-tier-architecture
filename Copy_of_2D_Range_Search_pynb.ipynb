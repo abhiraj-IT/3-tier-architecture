{
  "cells": [
    {
      "cell_type": "markdown",
      "metadata": {
        "id": "view-in-github",
        "colab_type": "text"
      },
      "source": [
        "<a href=\"https://colab.research.google.com/github/abhiraj-IT/3-tier-architecture/blob/main/Copy_of_2D_Range_Search_pynb.ipynb\" target=\"_parent\"><img src=\"https://colab.research.google.com/assets/colab-badge.svg\" alt=\"Open In Colab\"/></a>"
      ]
    },
    {
      "cell_type": "code",
      "source": [
        "class Point:\n",
        "    def __init__(self, x, y):\n",
        "        self.x = x\n",
        "        self.y = y\n",
        "\n",
        "    def __repr__(self):\n",
        "        return f\"({self.x}, {self.y})\"\n",
        "\n",
        "def range_search(points, x_min, x_max, y_min, y_max):\n",
        "    # Collect points within the specified range\n",
        "    result = [\n",
        "        point for point in points\n",
        "        if x_min <= point.x <= x_max and y_min <= point.y <= y_max\n",
        "    ]\n",
        "    return result\n",
        "\n",
        "def main():\n",
        "    # Take input from user for number of points\n",
        "    num_points = int(input(\"Enter the number of points: \"))\n",
        "\n",
        "    # Take input for each point's coordinates\n",
        "    points = []\n",
        "    for i in range(num_points):\n",
        "        x = float(input(f\"Enter x-coordinate of point {i+1}: \"))\n",
        "        y = float(input(f\"Enter y-coordinate of point {i+1}: \"))\n",
        "        points.append(Point(x, y))\n",
        "\n",
        "    # Take input for range boundaries\n",
        "    x_min = float(input(\"Enter the minimum x-coordinate for the range: \"))\n",
        "    x_max = float(input(\"Enter the maximum x-coordinate for the range: \"))\n",
        "    y_min = float(input(\"Enter the minimum y-coordinate for the range: \"))\n",
        "    y_max = float(input(\"Enter the maximum y-coordinate for the range: \"))\n",
        "\n",
        "    # Perform range search\n",
        "    result = range_search(points, x_min, x_max, y_min, y_max)\n",
        "\n",
        "    # Output the result\n",
        "    if result:\n",
        "        print(\"Points within the specified range:\")\n",
        "        for point in result:\n",
        "            print(point)\n",
        "    else:\n",
        "        print(\"No points found within the specified range.\")\n",
        "\n",
        "if __name__ == \"__main__\":\n",
        "    main()\n",
        "5"
      ],
      "metadata": {
        "colab": {
          "base_uri": "https://localhost:8080/"
        },
        "id": "IdKHvw79ftq3",
        "outputId": "872e6a50-e815-4f3f-b28c-df92fa4fe7bc"
      },
      "execution_count": null,
      "outputs": [
        {
          "output_type": "stream",
          "name": "stdout",
          "text": [
            "Enter the number of points: 5\n",
            "Enter x-coordinate of point 1: 1\n",
            "Enter y-coordinate of point 1: 2\n",
            "Enter x-coordinate of point 2: 3\n",
            "Enter y-coordinate of point 2: 4\n",
            "Enter x-coordinate of point 3: 5\n",
            "Enter y-coordinate of point 3: 6\n",
            "Enter x-coordinate of point 4: 7\n",
            "Enter y-coordinate of point 4: 8\n",
            "Enter x-coordinate of point 5: 9\n",
            "Enter y-coordinate of point 5: 10\n",
            "Enter the minimum x-coordinate for the range: 3\n",
            "Enter the maximum x-coordinate for the range: 7\n",
            "Enter the minimum y-coordinate for the range: 4\n",
            "Enter the maximum y-coordinate for the range: 8\n",
            "Points within the specified range:\n",
            "(3.0, 4.0)\n",
            "(5.0, 6.0)\n",
            "(7.0, 8.0)\n"
          ]
        },
        {
          "output_type": "execute_result",
          "data": {
            "text/plain": [
              "5"
            ]
          },
          "metadata": {},
          "execution_count": 5
        }
      ]
    }
  ],
  "metadata": {
    "colab": {
      "provenance": [],
      "authorship_tag": "ABX9TyPEM3u54oRi2I/KNvCRsXjE",
      "include_colab_link": true
    },
    "kernelspec": {
      "display_name": "Python 3",
      "name": "python3"
    },
    "language_info": {
      "name": "python"
    }
  },
  "nbformat": 4,
  "nbformat_minor": 0
}